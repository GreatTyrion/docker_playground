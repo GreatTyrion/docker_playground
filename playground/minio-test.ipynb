{
 "cells": [
  {
   "cell_type": "code",
   "execution_count": null,
   "metadata": {},
   "outputs": [],
   "source": [
    "import os\n",
    "from pathlib import Path\n",
    "\n",
    "from dotenv import load_dotenv\n",
    "from loguru import logger\n",
    "from minio import Minio"
   ]
  },
  {
   "cell_type": "code",
   "execution_count": null,
   "metadata": {},
   "outputs": [],
   "source": [
    "%load_ext autoreload\n",
    "%autoreload 2"
   ]
  },
  {
   "cell_type": "code",
   "execution_count": null,
   "metadata": {},
   "outputs": [],
   "source": [
    "load_dotenv"
   ]
  },
  {
   "cell_type": "code",
   "execution_count": null,
   "metadata": {},
   "outputs": [],
   "source": [
    "ACCESS_KEY = os.environ.get('ACCESS_KEY')\n",
    "SECRET_KEY = os.environ.get('SECRET_KEY')\n",
    "MINIO_API_HOST =  os.environ.get('MINIO_API_HOST')"
   ]
  },
  {
   "cell_type": "code",
   "execution_count": null,
   "metadata": {},
   "outputs": [],
   "source": [
    "Path(MINIO_API_HOST).name"
   ]
  },
  {
   "cell_type": "code",
   "execution_count": null,
   "metadata": {},
   "outputs": [],
   "source": [
    "MINIO_CLIENT = Minio(Path(MINIO_API_HOST).name, access_key=ACCESS_KEY, secret_key=SECRET_KEY, secure=False)"
   ]
  },
  {
   "cell_type": "code",
   "execution_count": null,
   "metadata": {},
   "outputs": [],
   "source": [
    "BUCKET_NAME = \"docker-playground-images\""
   ]
  },
  {
   "cell_type": "code",
   "execution_count": null,
   "metadata": {},
   "outputs": [],
   "source": [
    "def upload_to_minio(bucket_name, object_name, file_path):\n",
    "    found = MINIO_CLIENT.bucket_exists(bucket_name)\n",
    "    if not found:\n",
    "        MINIO_CLIENT.make_bucket(bucket_name)\n",
    "    else:\n",
    "        logger.info(\"Bucket already exists\")\n",
    "    MINIO_CLIENT.fput_object(bucket_name, object_name, file_path,)\n",
    "    logger.success(\"It is successfully uploaded to bucket\")"
   ]
  },
  {
   "cell_type": "code",
   "execution_count": null,
   "metadata": {},
   "outputs": [],
   "source": [
    "upload_to_minio(BUCKET_NAME, \"snail.jpg\", \"../data/images/snail.jpg\")"
   ]
  },
  {
   "cell_type": "code",
   "execution_count": null,
   "metadata": {},
   "outputs": [],
   "source": []
  }
 ],
 "metadata": {
  "kernelspec": {
   "display_name": "Python 3.10.8 ('venv': venv)",
   "language": "python",
   "name": "python3"
  },
  "language_info": {
   "codemirror_mode": {
    "name": "ipython",
    "version": 3
   },
   "file_extension": ".py",
   "mimetype": "text/x-python",
   "name": "python",
   "nbconvert_exporter": "python",
   "pygments_lexer": "ipython3",
   "version": "3.10.8"
  },
  "orig_nbformat": 4,
  "vscode": {
   "interpreter": {
    "hash": "df2dade9e0269f2303b23f4509aa7bdf3fab04a0522c69b4639e012426b96a04"
   }
  }
 },
 "nbformat": 4,
 "nbformat_minor": 2
}
